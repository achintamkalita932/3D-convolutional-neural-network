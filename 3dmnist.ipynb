{
 "cells": [
  {
   "cell_type": "code",
   "execution_count": 18,
   "metadata": {},
   "outputs": [],
   "source": [
    "import os\n",
    "os.environ[\"CUDA_DEVICE_ORDER\"] = \"PCI_BUS_ID\"   #if like me you do not have a lot of memory in your GPU\n",
    "os.environ[\"CUDA_VISIBLE_DEVICES\"] = \"\" #then these two lines force keras to use your CPU\n",
    "import keras\n",
    "from keras.models import Sequential\n",
    "from keras.layers import Dense, Flatten, Conv3D, MaxPooling3D, Dropout, BatchNormalization\n",
    "from keras.utils import to_categorical\n",
    "import numpy as np\n",
    "import matplotlib.pyplot as plt\n",
    "import h5py\n",
    "import tensorflow as tf"
   ]
  },
  {
   "cell_type": "code",
   "execution_count": 2,
   "metadata": {},
   "outputs": [],
   "source": [
    "def array_to_color(array, cmap=\"Oranges\"):\n",
    "    s_m = plt.cm.ScalarMappable(cmap=cmap)\n",
    "    return s_m.to_rgba(array)[:,:-1]\n",
    "\n",
    "\n",
    "def rgb_data_transform(data):\n",
    "    data_t = []\n",
    "    for i in range(data.shape[0]):\n",
    "        data_t.append(array_to_color(data[i]).reshape(16, 16, 16, 3))\n",
    "    return np.asarray(data_t, dtype=np.float32)"
   ]
  },
  {
   "cell_type": "code",
   "execution_count": 3,
   "metadata": {},
   "outputs": [
    {
     "name": "stderr",
     "output_type": "stream",
     "text": [
      "C:\\Users\\HP Gaming\\AppData\\Local\\Temp\\ipykernel_9236\\2501731755.py:17: DeprecationWarning: Converting `np.integer` or `np.signedinteger` to a dtype is deprecated. The current result is `np.dtype(np.int_)` which is not strictly correct. Note that the result depends on the system. To ensure stable results use may want to use `np.int64` or `np.int32`.\n",
      "  targets_train = to_categorical(targets_train).astype(np.integer)\n",
      "C:\\Users\\HP Gaming\\AppData\\Local\\Temp\\ipykernel_9236\\2501731755.py:18: DeprecationWarning: Converting `np.integer` or `np.signedinteger` to a dtype is deprecated. The current result is `np.dtype(np.int_)` which is not strictly correct. Note that the result depends on the system. To ensure stable results use may want to use `np.int64` or `np.int32`.\n",
      "  targets_test = to_categorical(targets_test).astype(np.integer)\n"
     ]
    }
   ],
   "source": [
    "\n",
    "with h5py.File(\"archive/full_dataset_vectors.h5\", \"r\") as hf:    \n",
    "\n",
    "    # Split the data into training/test features/targets\n",
    "    X_train = hf[\"X_train\"][:]\n",
    "    targets_train = hf[\"y_train\"][:]\n",
    "    X_test = hf[\"X_test\"][:] \n",
    "    targets_test = hf[\"y_test\"][:]\n",
    "\n",
    "    # Determine sample shape\n",
    "    sample_shape = (16, 16, 16, 3)\n",
    "\n",
    "    # Reshape data into 3D format\n",
    "    X_train = rgb_data_transform(X_train)\n",
    "    X_test = rgb_data_transform(X_test)\n",
    "\n",
    "    # Convert target vectors to categorical targets\n",
    "    targets_train = to_categorical(targets_train).astype(np.integer)\n",
    "    targets_test = to_categorical(targets_test).astype(np.integer)"
   ]
  },
  {
   "cell_type": "code",
   "execution_count": 4,
   "metadata": {},
   "outputs": [
    {
     "data": {
      "text/plain": [
       "(10000, 16, 16, 16, 3)"
      ]
     },
     "execution_count": 4,
     "metadata": {},
     "output_type": "execute_result"
    }
   ],
   "source": [
    "X_train.shape"
   ]
  },
  {
   "cell_type": "code",
   "execution_count": 5,
   "metadata": {},
   "outputs": [
    {
     "data": {
      "text/plain": [
       "(2000, 16, 16, 16, 3)"
      ]
     },
     "execution_count": 5,
     "metadata": {},
     "output_type": "execute_result"
    }
   ],
   "source": [
    "X_test.shape"
   ]
  },
  {
   "cell_type": "code",
   "execution_count": 6,
   "metadata": {},
   "outputs": [
    {
     "name": "stdout",
     "output_type": "stream",
     "text": [
      "Model: \"sequential\"\n",
      "_________________________________________________________________\n",
      " Layer (type)                Output Shape              Param #   \n",
      "=================================================================\n",
      " conv3d (Conv3D)             (None, 14, 14, 14, 32)    2624      \n",
      "                                                                 \n",
      " max_pooling3d (MaxPooling3D  (None, 7, 7, 7, 32)      0         \n",
      " )                                                               \n",
      "                                                                 \n",
      " batch_normalization (BatchN  (None, 7, 7, 7, 32)      128       \n",
      " ormalization)                                                   \n",
      "                                                                 \n",
      " dropout (Dropout)           (None, 7, 7, 7, 32)       0         \n",
      "                                                                 \n",
      " conv3d_1 (Conv3D)           (None, 5, 5, 5, 64)       55360     \n",
      "                                                                 \n",
      " max_pooling3d_1 (MaxPooling  (None, 2, 2, 2, 64)      0         \n",
      " 3D)                                                             \n",
      "                                                                 \n",
      " batch_normalization_1 (Batc  (None, 2, 2, 2, 64)      256       \n",
      " hNormalization)                                                 \n",
      "                                                                 \n",
      " dropout_1 (Dropout)         (None, 2, 2, 2, 64)       0         \n",
      "                                                                 \n",
      " flatten (Flatten)           (None, 512)               0         \n",
      "                                                                 \n",
      " dense (Dense)               (None, 256)               131328    \n",
      "                                                                 \n",
      " dense_1 (Dense)             (None, 256)               65792     \n",
      "                                                                 \n",
      " dense_2 (Dense)             (None, 10)                2570      \n",
      "                                                                 \n",
      "=================================================================\n",
      "Total params: 258,058\n",
      "Trainable params: 257,866\n",
      "Non-trainable params: 192\n",
      "_________________________________________________________________\n"
     ]
    },
    {
     "name": "stderr",
     "output_type": "stream",
     "text": [
      "c:\\Program Files\\Python310\\lib\\site-packages\\keras\\optimizers\\optimizer_v2\\adam.py:114: UserWarning: The `lr` argument is deprecated, use `learning_rate` instead.\n",
      "  super().__init__(name, **kwargs)\n"
     ]
    },
    {
     "name": "stdout",
     "output_type": "stream",
     "text": [
      "Epoch 1/40\n",
      "55/55 [==============================] - 48s 849ms/step - loss: 2.2884 - accuracy: 0.2494 - val_loss: 2.6920 - val_accuracy: 0.1150\n",
      "Epoch 2/40\n",
      "55/55 [==============================] - 36s 664ms/step - loss: 1.7320 - accuracy: 0.4027 - val_loss: 3.2534 - val_accuracy: 0.1607\n",
      "Epoch 3/40\n",
      "55/55 [==============================] - 38s 691ms/step - loss: 1.5322 - accuracy: 0.4644 - val_loss: 2.0121 - val_accuracy: 0.3310\n",
      "Epoch 4/40\n",
      "55/55 [==============================] - 42s 767ms/step - loss: 1.4023 - accuracy: 0.5017 - val_loss: 3.5165 - val_accuracy: 0.1577\n",
      "Epoch 5/40\n",
      "55/55 [==============================] - 35s 645ms/step - loss: 1.3211 - accuracy: 0.5311 - val_loss: 2.8678 - val_accuracy: 0.2647\n",
      "Epoch 6/40\n",
      "55/55 [==============================] - 35s 636ms/step - loss: 1.2702 - accuracy: 0.5440 - val_loss: 2.6904 - val_accuracy: 0.3213\n",
      "Epoch 7/40\n",
      "55/55 [==============================] - 35s 635ms/step - loss: 1.2257 - accuracy: 0.5640 - val_loss: 2.7716 - val_accuracy: 0.2933\n",
      "Epoch 8/40\n",
      "55/55 [==============================] - 34s 610ms/step - loss: 1.1841 - accuracy: 0.5830 - val_loss: 3.0680 - val_accuracy: 0.2017\n",
      "Epoch 9/40\n",
      "55/55 [==============================] - 35s 637ms/step - loss: 1.1520 - accuracy: 0.5870 - val_loss: 1.9591 - val_accuracy: 0.4577\n",
      "Epoch 10/40\n",
      "55/55 [==============================] - 426s 8s/step - loss: 1.1283 - accuracy: 0.5967 - val_loss: 1.6019 - val_accuracy: 0.5150\n",
      "Epoch 11/40\n",
      "55/55 [==============================] - 39s 714ms/step - loss: 1.0922 - accuracy: 0.6069 - val_loss: 1.9260 - val_accuracy: 0.4393\n",
      "Epoch 12/40\n",
      "55/55 [==============================] - 41s 751ms/step - loss: 1.0636 - accuracy: 0.6214 - val_loss: 1.6128 - val_accuracy: 0.4887\n",
      "Epoch 13/40\n",
      "55/55 [==============================] - 35s 637ms/step - loss: 1.0509 - accuracy: 0.6219 - val_loss: 1.1589 - val_accuracy: 0.5883\n",
      "Epoch 14/40\n",
      "55/55 [==============================] - 33s 608ms/step - loss: 1.0419 - accuracy: 0.6283 - val_loss: 1.4981 - val_accuracy: 0.5597\n",
      "Epoch 15/40\n",
      "55/55 [==============================] - 32s 576ms/step - loss: 1.0237 - accuracy: 0.6304 - val_loss: 4.2349 - val_accuracy: 0.1930\n",
      "Epoch 16/40\n",
      "55/55 [==============================] - 33s 601ms/step - loss: 1.0009 - accuracy: 0.6443 - val_loss: 1.5829 - val_accuracy: 0.5057\n",
      "Epoch 17/40\n",
      "55/55 [==============================] - 34s 612ms/step - loss: 0.9666 - accuracy: 0.6543 - val_loss: 1.2747 - val_accuracy: 0.5850\n",
      "Epoch 18/40\n",
      "55/55 [==============================] - 36s 660ms/step - loss: 0.9701 - accuracy: 0.6550 - val_loss: 1.3348 - val_accuracy: 0.5517\n",
      "Epoch 19/40\n",
      "55/55 [==============================] - 34s 620ms/step - loss: 0.9399 - accuracy: 0.6669 - val_loss: 3.5503 - val_accuracy: 0.2443\n",
      "Epoch 20/40\n",
      "55/55 [==============================] - 34s 610ms/step - loss: 0.9181 - accuracy: 0.6743 - val_loss: 2.1799 - val_accuracy: 0.5027\n",
      "Epoch 21/40\n",
      "55/55 [==============================] - 36s 652ms/step - loss: 0.9095 - accuracy: 0.6797 - val_loss: 1.3620 - val_accuracy: 0.5653\n",
      "Epoch 22/40\n",
      "55/55 [==============================] - 34s 611ms/step - loss: 0.8788 - accuracy: 0.6871 - val_loss: 1.5821 - val_accuracy: 0.4770\n",
      "Epoch 23/40\n",
      "55/55 [==============================] - 35s 645ms/step - loss: 0.8742 - accuracy: 0.6907 - val_loss: 3.7595 - val_accuracy: 0.2970\n",
      "Epoch 24/40\n",
      "55/55 [==============================] - 31s 562ms/step - loss: 0.8670 - accuracy: 0.6919 - val_loss: 1.9666 - val_accuracy: 0.4593\n",
      "Epoch 25/40\n",
      "55/55 [==============================] - 31s 570ms/step - loss: 0.8574 - accuracy: 0.6936 - val_loss: 2.4224 - val_accuracy: 0.4207\n",
      "Epoch 26/40\n",
      "55/55 [==============================] - 33s 608ms/step - loss: 0.8482 - accuracy: 0.6974 - val_loss: 3.6186 - val_accuracy: 0.4537\n",
      "Epoch 27/40\n",
      "55/55 [==============================] - 32s 584ms/step - loss: 0.8070 - accuracy: 0.7121 - val_loss: 1.3711 - val_accuracy: 0.5530\n",
      "Epoch 28/40\n",
      "55/55 [==============================] - 32s 581ms/step - loss: 0.7937 - accuracy: 0.7217 - val_loss: 2.1938 - val_accuracy: 0.4643\n",
      "Epoch 29/40\n",
      "55/55 [==============================] - 32s 591ms/step - loss: 0.7685 - accuracy: 0.7243 - val_loss: 1.4915 - val_accuracy: 0.5320\n",
      "Epoch 30/40\n",
      "55/55 [==============================] - 33s 595ms/step - loss: 0.7655 - accuracy: 0.7273 - val_loss: 0.9887 - val_accuracy: 0.6757\n",
      "Epoch 31/40\n",
      "55/55 [==============================] - 33s 606ms/step - loss: 0.7566 - accuracy: 0.7317 - val_loss: 2.5862 - val_accuracy: 0.4527\n",
      "Epoch 32/40\n",
      "55/55 [==============================] - 32s 579ms/step - loss: 0.7391 - accuracy: 0.7396 - val_loss: 2.2101 - val_accuracy: 0.4667\n",
      "Epoch 33/40\n",
      "55/55 [==============================] - 36s 663ms/step - loss: 0.7483 - accuracy: 0.7324 - val_loss: 1.1250 - val_accuracy: 0.6380\n",
      "Epoch 34/40\n",
      "55/55 [==============================] - 75s 1s/step - loss: 0.7117 - accuracy: 0.7457 - val_loss: 2.1516 - val_accuracy: 0.4193\n",
      "Epoch 35/40\n",
      "55/55 [==============================] - 80s 1s/step - loss: 0.7108 - accuracy: 0.7496 - val_loss: 1.2748 - val_accuracy: 0.6063\n",
      "Epoch 36/40\n",
      "55/55 [==============================] - 78s 1s/step - loss: 0.7048 - accuracy: 0.7520 - val_loss: 1.3000 - val_accuracy: 0.5973\n",
      "Epoch 37/40\n",
      "55/55 [==============================] - 78s 1s/step - loss: 0.7014 - accuracy: 0.7520 - val_loss: 1.4799 - val_accuracy: 0.5687\n",
      "Epoch 38/40\n",
      "55/55 [==============================] - 80s 1s/step - loss: 0.6824 - accuracy: 0.7559 - val_loss: 1.1067 - val_accuracy: 0.6493\n",
      "Epoch 39/40\n",
      "55/55 [==============================] - 79s 1s/step - loss: 0.6543 - accuracy: 0.7650 - val_loss: 1.6451 - val_accuracy: 0.5167\n",
      "Epoch 40/40\n",
      "55/55 [==============================] - 79s 1s/step - loss: 0.6489 - accuracy: 0.7729 - val_loss: 2.2463 - val_accuracy: 0.4710\n"
     ]
    }
   ],
   "source": [
    "# Create the model\n",
    "model = Sequential()\n",
    "model.add(Conv3D(32, kernel_size=(3, 3, 3), activation='relu', kernel_initializer='he_uniform', input_shape=sample_shape))\n",
    "model.add(MaxPooling3D(pool_size=(2, 2, 2)))\n",
    "model.add(BatchNormalization(center=True, scale=True))\n",
    "model.add(Dropout(0.5))\n",
    "model.add(Conv3D(64, kernel_size=(3, 3, 3), activation='relu', kernel_initializer='he_uniform'))\n",
    "model.add(MaxPooling3D(pool_size=(2, 2, 2)))\n",
    "model.add(BatchNormalization(center=True, scale=True))\n",
    "model.add(Dropout(0.5))\n",
    "model.add(Flatten())\n",
    "model.add(Dense(256, activation='relu', kernel_initializer='he_uniform'))\n",
    "model.add(Dense(256, activation='relu', kernel_initializer='he_uniform'))\n",
    "model.add(Dense(10, activation='softmax'))\n",
    "\n",
    "# Compile the model\n",
    "model.compile(loss='categorical_crossentropy',\n",
    "              optimizer=keras.optimizers.Adam(lr=0.001),\n",
    "              metrics=['accuracy'])\n",
    "model.summary()\n",
    "# Fit data to model\n",
    "history = model.fit(X_train, targets_train,\n",
    "            batch_size=128,\n",
    "            epochs=40,\n",
    "            verbose=1,\n",
    "            validation_split=0.3)"
   ]
  },
  {
   "cell_type": "code",
   "execution_count": 7,
   "metadata": {},
   "outputs": [
    {
     "name": "stdout",
     "output_type": "stream",
     "text": [
      "63/63 [==============================] - 2s 34ms/step - loss: 2.2716 - accuracy: 0.4760\n"
     ]
    },
    {
     "data": {
      "text/plain": [
       "[2.271618366241455, 0.47600001096725464]"
      ]
     },
     "execution_count": 7,
     "metadata": {},
     "output_type": "execute_result"
    }
   ],
   "source": [
    "model.evaluate(X_test, targets_test)"
   ]
  },
  {
   "cell_type": "code",
   "execution_count": 14,
   "metadata": {},
   "outputs": [
    {
     "data": {
      "text/plain": [
       "(2000, 16, 16, 16, 3)"
      ]
     },
     "execution_count": 14,
     "metadata": {},
     "output_type": "execute_result"
    }
   ],
   "source": [
    "X_test.shape"
   ]
  },
  {
   "cell_type": "code",
   "execution_count": 15,
   "metadata": {},
   "outputs": [
    {
     "data": {
      "text/plain": [
       "(2000, 10)"
      ]
     },
     "execution_count": 15,
     "metadata": {},
     "output_type": "execute_result"
    }
   ],
   "source": [
    "targets_test.shape"
   ]
  },
  {
   "cell_type": "code",
   "execution_count": 11,
   "metadata": {},
   "outputs": [
    {
     "data": {
      "text/plain": [
       "array([0, 0, 0, 0, 0, 0, 0, 1, 0, 0])"
      ]
     },
     "execution_count": 11,
     "metadata": {},
     "output_type": "execute_result"
    }
   ],
   "source": [
    "targets_test[0]"
   ]
  },
  {
   "cell_type": "code",
   "execution_count": 8,
   "metadata": {},
   "outputs": [
    {
     "name": "stdout",
     "output_type": "stream",
     "text": [
      "63/63 [==============================] - 5s 42ms/step\n"
     ]
    }
   ],
   "source": [
    "predicted = model.predict(X_test)"
   ]
  },
  {
   "cell_type": "code",
   "execution_count": 21,
   "metadata": {},
   "outputs": [
    {
     "data": {
      "text/plain": [
       "[7, 7, 2, 5, 1]"
      ]
     },
     "execution_count": 21,
     "metadata": {},
     "output_type": "execute_result"
    }
   ],
   "source": [
    "#predicted[0]\n",
    "\n",
    "predicted_labels = [np.argmax(i) for i in predicted]\n",
    "predicted_labels[:5]"
   ]
  },
  {
   "cell_type": "code",
   "execution_count": 10,
   "metadata": {},
   "outputs": [
    {
     "data": {
      "text/plain": [
       "7"
      ]
     },
     "execution_count": 10,
     "metadata": {},
     "output_type": "execute_result"
    }
   ],
   "source": [
    "np.argmax(predicted[0])"
   ]
  },
  {
   "cell_type": "code",
   "execution_count": 25,
   "metadata": {},
   "outputs": [
    {
     "data": {
      "text/plain": [
       "[7, 7, 2, 2, 1]"
      ]
     },
     "execution_count": 25,
     "metadata": {},
     "output_type": "execute_result"
    }
   ],
   "source": [
    "target_labels = [np.argmax(i) for i in targets_test]\n",
    "target_labels[:5]"
   ]
  },
  {
   "cell_type": "code",
   "execution_count": 16,
   "metadata": {},
   "outputs": [
    {
     "data": {
      "text/plain": [
       "2"
      ]
     },
     "execution_count": 16,
     "metadata": {},
     "output_type": "execute_result"
    }
   ],
   "source": [
    "np.argmax(predicted[2])"
   ]
  },
  {
   "cell_type": "code",
   "execution_count": 26,
   "metadata": {},
   "outputs": [],
   "source": [
    "cm = tf.math.confusion_matrix(labels = target_labels, predictions= predicted_labels)"
   ]
  },
  {
   "cell_type": "code",
   "execution_count": 27,
   "metadata": {},
   "outputs": [
    {
     "data": {
      "text/plain": [
       "Text(95.72222222222221, 0.5, 'Truth')"
      ]
     },
     "execution_count": 27,
     "metadata": {},
     "output_type": "execute_result"
    },
    {
     "data": {
      "image/png": "[encoded data removed]",
      "text/plain": [
       "<Figure size 1000x700 with 2 Axes>"
      ]
     },
     "metadata": {},
     "output_type": "display_data"
    }
   ],
   "source": [
    "import seaborn as sn\n",
    "plt.figure(figsize = (10,7))\n",
    "sn.heatmap(cm, annot=True, fmt='d')\n",
    "plt.xlabel('Predicted')\n",
    "plt.ylabel('Truth')"
   ]
  },
  {
   "cell_type": "code",
   "execution_count": null,
   "metadata": {},
   "outputs": [],
   "source": []
  }
 ],
 "metadata": {
  "kernelspec": {
   "display_name": "Python 3.10.7 64-bit",
   "language": "python",
   "name": "python3"
  },
  "language_info": {
   "codemirror_mode": {
    "name": "ipython",
    "version": 3
   },
   "file_extension": ".py",
   "mimetype": "text/x-python",
   "name": "python",
   "nbconvert_exporter": "python",
   "pygments_lexer": "ipython3",
   "version": "3.10.7"
  },
  "orig_nbformat": 4,
  "vscode": {
   "interpreter": {
    "hash": "26de051ba29f2982a8de78e945f0abaf191376122a1563185a90213a26c5da77"
   }
  }
 },
 "nbformat": 4,
 "nbformat_minor": 2
}
